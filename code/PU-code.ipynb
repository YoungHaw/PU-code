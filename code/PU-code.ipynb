{
 "cells": [
  {
   "cell_type": "markdown",
   "id": "fabbeeea",
   "metadata": {},
   "source": [
    "# Molecule"
   ]
  },
  {
   "cell_type": "code",
   "execution_count": null,
   "id": "939c4429",
   "metadata": {},
   "outputs": [],
   "source": [
    "from rdkit import Chem\n",
    "from rdkit import Chem\n",
    "from rdkit.Chem import Draw\n",
    "from rdkit.Chem import AllChem"
   ]
  },
  {
   "cell_type": "code",
   "execution_count": null,
   "id": "e13866d7",
   "metadata": {},
   "outputs": [],
   "source": [
    "smi = 'c1(C#Cc2ccc(C3CCC(CC)CC3)cc2)ccc(CCC)cc1'\n",
    "mol = Chem.MolFromSmiles(smi)\n",
    "Draw.MolToFile(mol,'.png')"
   ]
  },
  {
   "cell_type": "markdown",
   "id": "452e5ff5",
   "metadata": {},
   "source": [
    "# PCC code"
   ]
  },
  {
   "cell_type": "code",
   "execution_count": null,
   "id": "502e91d2",
   "metadata": {},
   "outputs": [],
   "source": [
    "import pandas as pd\n",
    "import numpy as np\n",
    "from scipy.stats import pearsonr"
   ]
  },
  {
   "cell_type": "code",
   "execution_count": null,
   "id": "e32bcbed",
   "metadata": {},
   "outputs": [],
   "source": [
    "dataSet = pd.read_excel(\".xlsx\")\n",
    "pearson_result=dataSet.corr()\n",
    "pearson_result.to_excel(\".xlsx\")"
   ]
  },
  {
   "cell_type": "code",
   "execution_count": null,
   "id": "b7f795a7",
   "metadata": {},
   "outputs": [],
   "source": [
    "def excuteFilter(x,pearson_result,dataSet,path):   \n",
    "    header=pearson_result.columns\n",
    "    data = pearson_result.values\n",
    "    indices = np.triu_indices_from(data)\n",
    "    [rows, cols] = data.shape\n",
    "    addlist = [] \n",
    "    removelist = [] \n",
    "    removeindex = [] \n",
    "    for i in range(rows):\n",
    "        if header[i] not in removelist:\n",
    "            for j in range(cols):\n",
    "                if j < i:\n",
    "                    if data[i,j]>x or data[i,j]<-x:\n",
    "                        if header[j] in addlist:\n",
    "                            if header[i] not in removelist: \n",
    "                                removelist.append(header[i])\n",
    "                                continue\n",
    "                        if header[i] not in addlist: \n",
    "                            addlist.append(header[i])\n",
    "                        if header[j] not in removelist: \n",
    "                             removelist.append(header[j])\n",
    "    retainList = []\n",
    "    for col in header:\n",
    "        if col not in removelist:\n",
    "            retainList.append(col)\n",
    "            print(col)\n",
    "    dataSet[retainList].to_excel(path,index = False)"
   ]
  },
  {
   "cell_type": "code",
   "execution_count": null,
   "id": "d5c8e454",
   "metadata": {},
   "outputs": [],
   "source": [
    "excuteFilter(0.7,pearson_result,dataSet,\".xlsx\")"
   ]
  },
  {
   "cell_type": "code",
   "execution_count": null,
   "id": "51af1add",
   "metadata": {},
   "outputs": [],
   "source": [
    "import seaborn as sns\n",
    "import matplotlib.pyplot as plt\n",
    "dataframe = pd.read_excel(\".xlsx\")\n",
    "dcorr=dataframe.corr()\n",
    "plt.rcParams['font.sans-serif']=['FangSong'] \n",
    "plt.rcParams['axes.unicode_minus']=False\n",
    "plt.subplots(figsize=(30, 30))\n",
    "\n",
    "fig=sns.heatmap(dcorr,\n",
    "            cmap='YlGnBu',\n",
    "            annot=False,\n",
    "            fmt=\".2f\",\n",
    "            mask=np.triu(np.ones_like(dcorr,dtype=bool)) \n",
    "           )\n",
    "fig_path=\".jpg\"; \n",
    "heatmap = fig.get_figure()\n",
    "heatmap.savefig(fig_path, dpi = 400)"
   ]
  },
  {
   "cell_type": "markdown",
   "id": "95b749c1",
   "metadata": {},
   "source": [
    "# Standardization of feature values"
   ]
  },
  {
   "cell_type": "code",
   "execution_count": null,
   "id": "62fd126c",
   "metadata": {},
   "outputs": [],
   "source": [
    "import pandas as pd\n",
    "import numpy as np"
   ]
  },
  {
   "cell_type": "code",
   "execution_count": null,
   "id": "3718bd04",
   "metadata": {},
   "outputs": [],
   "source": [
    "data=pd.read_excel(\".xlsx\")\n",
    "X = data.iloc[:,:]"
   ]
  },
  {
   "cell_type": "code",
   "execution_count": null,
   "id": "c085a1e6",
   "metadata": {},
   "outputs": [],
   "source": [
    "from sklearn.preprocessing import StandardScaler\n",
    "X1 = StandardScaler().fit_transform(X)"
   ]
  },
  {
   "cell_type": "code",
   "execution_count": null,
   "id": "0ca8b9b8",
   "metadata": {},
   "outputs": [],
   "source": [
    "dataframe = pd.DataFrame(x1)  \n",
    "dataframe.to_excel(\".xlsx\",index=True) "
   ]
  },
  {
   "cell_type": "markdown",
   "id": "e1535837",
   "metadata": {},
   "source": [
    "# PU code"
   ]
  },
  {
   "cell_type": "code",
   "execution_count": null,
   "id": "c7bfd9b4",
   "metadata": {},
   "outputs": [],
   "source": [
    "from pulearn import BaggingPuClassifier\n",
    "from sklearn.ensemble import RandomForestClassifier\n",
    "import pandas as pd                    \n",
    "import numpy as np       "
   ]
  },
  {
   "cell_type": "code",
   "execution_count": null,
   "id": "1fd35628",
   "metadata": {},
   "outputs": [],
   "source": [
    "df = pd.read_excel(\".xlsx\",header = None)\n",
    "X1 = df.iloc[:, :-1]\n",
    "y = df.iloc[:,-1]"
   ]
  },
  {
   "cell_type": "code",
   "execution_count": null,
   "id": "c9422d09",
   "metadata": {},
   "outputs": [],
   "source": [
    "data = pd.read_excel('.xlsx')\n",
    "X_d =data.columns.tolist()[1:]\n",
    "del X_d[-1]\n",
    "X_d"
   ]
  },
  {
   "cell_type": "code",
   "execution_count": null,
   "id": "ef656d19",
   "metadata": {},
   "outputs": [],
   "source": [
    "for i in range(10,100):\n",
    "    bc = BaggingPuClassifier(\n",
    "        RandomForestClassifier(\n",
    "            n_estimators = 100\n",
    "            random_state = 0\n",
    "        ),   \n",
    "        n_estimators = i,  \n",
    "        max_samples = sum(y),\n",
    "        n_jobs = -1,           \n",
    "        random_state = 0,\n",
    "        oob_score=True\n",
    ")\n",
    "    bc.fit(X, y) \n",
    "    score =bc.oob_score_  \n",
    "    print(\"i=\" +str(i)+\"score\",score)"
   ]
  },
  {
   "cell_type": "code",
   "execution_count": null,
   "id": "ede98759",
   "metadata": {},
   "outputs": [],
   "source": [
    "bc = BaggingPuClassifier(\n",
    "    RandomForestClassifier(\n",
    "         n_estimators = 100\n",
    "         random_state = 0\n",
    "    ),  \n",
    "    n_estimators =36,  \n",
    "    max_samples = sum(y),\n",
    "    n_jobs = -1,           \n",
    "    random_state = 0,\n",
    "    oob_score=True\n",
    ")\n",
    "bc.fit(X, y) #执行pu分类训练\n",
    "print(\"score:\",bc.oob_score_)"
   ]
  },
  {
   "cell_type": "code",
   "execution_count": null,
   "id": "eefd2028",
   "metadata": {},
   "outputs": [],
   "source": [
    "print(bc.oob_decision_function_)"
   ]
  },
  {
   "cell_type": "code",
   "execution_count": null,
   "id": "21bd2a74",
   "metadata": {},
   "outputs": [],
   "source": [
    "y_pp=bc.predict_proba(X)"
   ]
  },
  {
   "cell_type": "markdown",
   "id": "9a1fd8d9",
   "metadata": {},
   "source": [
    "# kNN code"
   ]
  },
  {
   "cell_type": "code",
   "execution_count": null,
   "id": "aeb6ca93",
   "metadata": {},
   "outputs": [],
   "source": [
    "from sklearn.naive_bayes import BernoulliNB\n",
    "import numpy as np\n",
    "import pandas as pd\n",
    "from sklearn.svm import NuSVC\n",
    "from sklearn.neighbors import KNeighborsClassifier\n",
    "pd.set_option('max_columns',1000)\n",
    "pd.set_option('max_row',300)\n",
    "pd.set_option('display.float_format', lambda x:' %.5f' % x)\n",
    "pd.set_option('display.max_rows',None)\n",
    "pd.set_option('display.max_columns',None)\n",
    "pd.set_option('max_colwidth',10000)\n",
    "import sys\n",
    "np.set_printoptions(threshold=sys.maxsize)"
   ]
  },
  {
   "cell_type": "code",
   "execution_count": null,
   "id": "69856b5e",
   "metadata": {},
   "outputs": [],
   "source": [
    "data = pd.read_excel('.xlsx')\n",
    "X = data.iloc[:,1:-1]\n",
    "Y = data.iloc[:,-1]"
   ]
  },
  {
   "cell_type": "code",
   "execution_count": null,
   "id": "877f8bd7",
   "metadata": {},
   "outputs": [],
   "source": [
    "from sklearn.model_selection import train_test_split\n",
    "x_train,x_test,y_train,y_test = train_test_split(X,Y,test_size = 0.3,random_state = 0)"
   ]
  },
  {
   "cell_type": "code",
   "execution_count": null,
   "id": "2b4c9f7f",
   "metadata": {},
   "outputs": [],
   "source": [
    "from sklearn.neighbors import KNeighborsClassifier"
   ]
  },
  {
   "cell_type": "code",
   "execution_count": null,
   "id": "dbeb914d",
   "metadata": {},
   "outputs": [],
   "source": [
    "for n_neighbors in range(1,50,1):\n",
    "    for weights in ['uniform', 'distance']:\n",
    "        nei = KNeighborsClassifier(n_neighbors, weights=weights)\n",
    "        nei.fit(x_train,y_train)\n",
    "        nei.score(x_test,y_test)\n",
    "        print(f'{n_neighbors},{weights}score', nei.score(x_test,y_test))\n",
    "        print(f'{n_neighbors},{weights}score', nei.score(x_train,y_train))"
   ]
  },
  {
   "cell_type": "code",
   "execution_count": null,
   "id": "6c65a78f",
   "metadata": {},
   "outputs": [],
   "source": [
    "clf = KNeighborsClassifier(n_neighbors = 22,weights='distance')\n",
    "clf.fit(x_train,y_train)"
   ]
  },
  {
   "cell_type": "code",
   "execution_count": null,
   "id": "b15ff5d0",
   "metadata": {},
   "outputs": [],
   "source": [
    "y_pred = clf.predict(x_test)\n",
    "y_pred"
   ]
  },
  {
   "cell_type": "code",
   "execution_count": null,
   "id": "285bda44",
   "metadata": {},
   "outputs": [],
   "source": [
    "train_score = clf.score(x_train,y_train)\n",
    "test_score = clf.score(x_test,y_test)\n",
    "print(\"train score:{};test score:{}\".format(train_score,test_score))"
   ]
  },
  {
   "cell_type": "code",
   "execution_count": null,
   "id": "69766d27",
   "metadata": {},
   "outputs": [],
   "source": [
    "import matplotlib.pyplot as plt\n",
    "plt.scatter(range(0,29),y_pred,c='red',s=200,label='ML.predicted')\n",
    "plt.scatter(range(0,29),y_test,c='blue',label='Experiment')\n",
    "plt.legend()\n",
    "plt_path=\".jpg\"; \n",
    "plt.savefig(plt_path, dpi = 600)"
   ]
  },
  {
   "cell_type": "markdown",
   "id": "13d405b8",
   "metadata": {},
   "source": [
    "# Confusion matrix code"
   ]
  },
  {
   "cell_type": "code",
   "execution_count": null,
   "id": "25e9d1f9",
   "metadata": {},
   "outputs": [],
   "source": [
    "from sklearn.metrics import confusion_matrix\n",
    "C2 = confusion_matrix(y_test,y_pred,labels = [0,1])\n",
    "print(C2)"
   ]
  },
  {
   "cell_type": "code",
   "execution_count": null,
   "id": "333575d0",
   "metadata": {},
   "outputs": [],
   "source": [
    "import seaborn as sns\n",
    "sns.set(font_scale = 1.01)\n",
    "f,ax = plt.subplots()\n",
    "sns.heatmap(C2,annot = True)\n",
    "ax.set_title('confusion_matrix')\n",
    "ax.set_xlabel('predict')\n",
    "ax.set_ylabel('true')\n",
    "ax_path=\"confusion_matrix.jpg\"; \n",
    "heatmap = ax.get_figure()\n",
    "heatmap.savefig(ax_path, dpi = 600)"
   ]
  },
  {
   "cell_type": "code",
   "execution_count": null,
   "id": "6a175d55",
   "metadata": {},
   "outputs": [],
   "source": [
    "from sklearn.metrics import accuracy_score\n",
    "from sklearn.metrics import precision_score\n",
    "from sklearn.metrics import recall_score\n",
    "from sklearn.metrics import f1_score\n",
    "accuracy_score(y_test,y_pred)\n",
    "precision_score(y_test,y_pred)\n",
    "recall_score(y_test,y_pred)\n",
    "f1_score(y_test,y_pred)"
   ]
  },
  {
   "cell_type": "code",
   "execution_count": null,
   "id": "19ef48b7",
   "metadata": {},
   "outputs": [],
   "source": [
    "from sklearn.metrics import roc_auc_score\n",
    "from sklearn.metrics import roc_curve, auc\n",
    "y_score = clf.predict_proba(x_test)\n",
    "fpr,tpr,threshold = roc_curve(y_test, y_score[:, 1])\n",
    "roc_auc = auc(fpr,tpr) \n",
    "plt.figure()\n",
    "lw = 2\n",
    "plt.figure(figsize=(10,10))\n",
    "plt.plot(fpr, tpr, color='darkorange',\n",
    "         lw=lw, label='ROC curve (area = %0.2f)' % roc_auc) \n",
    "plt.plot([0, 1], [0, 1], color='navy', lw=lw, linestyle='--')\n",
    "plt.xlim([0.0, 1.0])\n",
    "plt.ylim([0.0, 1.05])\n",
    "plt.xlabel('False Positive Rate')\n",
    "plt.ylabel('True Positive Rate')\n",
    "plt.title('Receiver operating characteristic example')\n",
    "plt.legend(loc=\"lower right\")\n",
    "plt_path=\"ROC.jpg\"; \n",
    "plt.savefig(plt_path, dpi = 600)\n",
    "plt.show()"
   ]
  },
  {
   "cell_type": "code",
   "execution_count": null,
   "id": "ede8e016",
   "metadata": {},
   "outputs": [],
   "source": [
    "from sklearn.metrics import precision_recall_curve\n",
    "from sklearn.metrics import PrecisionRecallDisplay\n",
    "from sklearn.metrics import average_precision_score\n",
    "average_precision = average_precision_score(y_test, y_score[:, 1])\n",
    "prec, recall, _ = precision_recall_curve(y_test, y_score[:, 1],\n",
    "                                         )\n",
    "pr_display = PrecisionRecallDisplay(precision=prec, recall=recall).plot()\n",
    "pr_display.ax_.set_title('2-class Precision-Recall curve: '\n",
    "                   'AP={0:0.2f}'.format(average_precision))\n",
    "\n",
    "plt_path=\"jingdu.jpg\"; \n",
    "plt.savefig(plt_path, dpi = 600)\n",
    "plt.show()"
   ]
  },
  {
   "cell_type": "code",
   "execution_count": null,
   "id": "b489ffd8",
   "metadata": {},
   "outputs": [],
   "source": [
    "from sklearn.model_selection import cross_val_score\n",
    "clf = KNeighborsClassifier(n_neighbors = 22, weights='uniform')\n",
    "scores = cross_val_score(clf, X, Y, cv=10)\n",
    "scores.mean()"
   ]
  },
  {
   "cell_type": "markdown",
   "id": "bef71a5b",
   "metadata": {},
   "source": [
    "# SHAP code"
   ]
  },
  {
   "cell_type": "code",
   "execution_count": null,
   "id": "eed2f57e",
   "metadata": {},
   "outputs": [],
   "source": [
    "import shap\n",
    "shap.initjs()"
   ]
  },
  {
   "cell_type": "code",
   "execution_count": null,
   "id": "28b3ecba",
   "metadata": {},
   "outputs": [],
   "source": [
    "data = pd.read_excel('.xlsx')\n",
    "X_d =data.columns.tolist()[1:]\n",
    "del X_d[-1]\n",
    "X_d"
   ]
  },
  {
   "cell_type": "code",
   "execution_count": null,
   "id": "e250845a",
   "metadata": {},
   "outputs": [],
   "source": [
    "from pandas.core.frame import DataFrame\n",
    "X_dis = DataFrame(X_d)\n",
    "X_display= pd.DataFrame(X_dis.values.T,columns = X_dis.index,index = X_dis.columns)"
   ]
  },
  {
   "cell_type": "code",
   "execution_count": null,
   "id": "f168a0b5",
   "metadata": {},
   "outputs": [],
   "source": [
    "explainer = shap.KernelExplainer(bc.predict_proba, X)\n",
    "f = lambda X: bc.predict_proba(X)[:,1]\n",
    "med = X.median().values.reshape((1,X.shape[1]))\n",
    "explainer = shap.KernelExplainer(f, med)\n",
    "shap_values_single = explainer.shap_values(X.iloc[0,:], nsamples=100)\n",
    "shap.force_plot(explainer.expected_value, shap_values_single, X_display.iloc[0,:])"
   ]
  },
  {
   "cell_type": "code",
   "execution_count": null,
   "id": "eb9dec78",
   "metadata": {},
   "outputs": [],
   "source": [
    "shap_values = explainer.shap_values(X.iloc[0:100,:], nsamples=100)\n",
    "shap.force_plot(explainer.expected_value, shap_values, X.iloc[0:100,:], X_display.iloc[0,:])"
   ]
  },
  {
   "cell_type": "code",
   "execution_count": null,
   "id": "4dcf9c2c",
   "metadata": {},
   "outputs": [],
   "source": [
    "shap.summary_plot(shap_values, X.iloc[0:100,:], X_display.iloc[0,:])\n",
    "shap.summary_plot(shap_values, X, X_display.iloc[0,:], plot_type=\"bar\")"
   ]
  },
  {
   "cell_type": "code",
   "execution_count": null,
   "id": "f9240dd6",
   "metadata": {},
   "outputs": [],
   "source": [
    "shap.dependence_plot(20, shap_values, X.values, feature_names=X.columns)\n",
    "shap.dependence_plot(\"rank(1)\", shap_values, X.values, feature_names=X.columns)"
   ]
  },
  {
   "cell_type": "code",
   "execution_count": null,
   "id": "e411185d",
   "metadata": {},
   "outputs": [],
   "source": [
    "f = lambda X: bc.predict_proba(X)[:,1]\n",
    "med = X.median().values.reshape((1,X.shape[1]))\n",
    "explainer = shap.KernelExplainer(f, med)\n",
    "fig4 = shap.force_plot(explainer.expected_value, shap_values[26], X_display.iloc[0,:],matplotlib=True,show = False)\n",
    "plt.savefig(\"index4.jpg\", dpi = 400)"
   ]
  },
  {
   "cell_type": "code",
   "execution_count": null,
   "id": "c54efed8",
   "metadata": {},
   "outputs": [],
   "source": [
    "f = lambda X: bc.predict_proba(X)[:,1]\n",
    "med = X.median().values.reshape((1,X.shape[1]))\n",
    "explainer = shap.KernelExplainer(f, med)\n",
    "shap_values_single = explainer.shap_values(X.iloc[0,:], nsamples=100)\n",
    "shap.force_plot(explainer.expected_value, shap_values[65], X_display.iloc[0,:],matplotlib=True,show = False)\n",
    "plt.savefig(\"index5.jpg\", dpi = 300)"
   ]
  },
  {
   "cell_type": "code",
   "execution_count": null,
   "id": "13e678ba",
   "metadata": {},
   "outputs": [],
   "source": [
    "f = lambda X: bc.predict_proba(X)[:,1]\n",
    "med = X.median().values.reshape((1,X.shape[1]))\n",
    "explainer = shap.KernelExplainer(f, med)\n",
    "shap_values_single = explainer.shap_values(X.iloc[0,:], nsamples=100)\n",
    "shap.force_plot(explainer.expected_value, shap_values[83], X_display.iloc[0,:],matplotlib=True,show = False)\n",
    "plt.savefig(\"index6.jpg\", dpi = 300)"
   ]
  }
 ],
 "metadata": {
  "kernelspec": {
   "display_name": "Python 3 (ipykernel)",
   "language": "python",
   "name": "python3"
  },
  "language_info": {
   "codemirror_mode": {
    "name": "ipython",
    "version": 3
   },
   "file_extension": ".py",
   "mimetype": "text/x-python",
   "name": "python",
   "nbconvert_exporter": "python",
   "pygments_lexer": "ipython3",
   "version": "3.9.7"
  }
 },
 "nbformat": 4,
 "nbformat_minor": 5
}
